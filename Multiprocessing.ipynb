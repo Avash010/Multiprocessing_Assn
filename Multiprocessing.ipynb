{
 "cells": [
  {
   "cell_type": "markdown",
   "id": "ffd320cb-b9d8-46be-a9d7-8773014ace45",
   "metadata": {},
   "source": [
    "## Q1. What is multiprocessing in python? Why is it useful?"
   ]
  },
  {
   "cell_type": "code",
   "execution_count": 1,
   "id": "3591abcd-2b20-46c7-afe2-c444cb2b2104",
   "metadata": {},
   "outputs": [],
   "source": [
    "# Multiprocessing is a module that enables the execution of multiple processes simultaneously.\n",
    "# It provides a way to create and manage multiple processes, each of which runs independently and can perform tasks concurrently.\n",
    "# Multiprocessing allows you to take advantage of the available hardware resources and distribute the workload efficiently.\n",
    "# Multiprocessing can execute multiple tasks simultaneously.\n",
    "# It can prevent main program from becoming unresponsive or freezing.\n",
    "# Multiprocessing enables you to effectively utilize all the cores, maximizing the utilization of your hardware."
   ]
  },
  {
   "cell_type": "markdown",
   "id": "fa7071ca-81df-4e1f-b816-0f0c39e9f68d",
   "metadata": {},
   "source": [
    "## Q2. What are the differences between multiprocessing and multithreading?"
   ]
  },
  {
   "cell_type": "code",
   "execution_count": 2,
   "id": "56a53705-cc42-4090-a32e-a518d7a9ba04",
   "metadata": {},
   "outputs": [],
   "source": [
    "# The differences between multiprocessing and multithreading are:\n",
    "#(a) Multiprocessing enables the execution of multiple processes simultaneously whereas Multithreading refers to execution of multiple threads within a single process.\n",
    "#(b) Multiprocessing do not share memory by default whereas Multithreading share the same memory space of the process\n",
    "#(c) In Multiprocessing, Each process has its own memory space which results in more memory usage compared to multithreading.\n",
    "#(d) In Multiprocessing, multiple processes execute simultaneously on different cores where as Multithreading allows only one thread to execute at a time.\n",
    "#(e) In Multiprocessing, each process runs independently,if one process crashes it does not affect others whereas in Multithreading, if one thread encounters an error, it can crash the entire process, affecting all other threads."
   ]
  },
  {
   "cell_type": "markdown",
   "id": "0e7f62a6-de64-4cdc-bee9-da77eaf2b787",
   "metadata": {},
   "source": [
    "## Q3. Write a python code to create a process using the multiprocessing module."
   ]
  },
  {
   "cell_type": "code",
   "execution_count": 3,
   "id": "a3968db7-8117-4220-9830-efbe0838d0ba",
   "metadata": {},
   "outputs": [
    {
     "name": "stdout",
     "output_type": "stream",
     "text": [
      "This is my main program\n",
      "This is my child program\n"
     ]
    }
   ],
   "source": [
    "import multiprocessing\n",
    "def test():\n",
    "    print(\"This is my child program\")\n",
    "if __name__ == '__main__':\n",
    "    m = multiprocessing.Process(target = test)\n",
    "    print(\"This is my main program\")\n",
    "    m.start()\n",
    "    m.join()"
   ]
  },
  {
   "cell_type": "markdown",
   "id": "cba12155-a31f-4f46-bd9f-31a66ea328e3",
   "metadata": {},
   "source": [
    "## Q4. What is a multiprocessing pool in python? Why is it used?"
   ]
  },
  {
   "cell_type": "code",
   "execution_count": 4,
   "id": "c5dcefd7-e004-4691-8e5b-29c2dbb4d3b5",
   "metadata": {},
   "outputs": [],
   "source": [
    "# A multiprocessing pool is a feature provided by the multiprocessing module that allows you to parallelize the execution of tasks across multiple processors. \n",
    "# It provides a convenient way to distribute and manage the workload among multiple processes in order to achieve better performance and utilize the available hardware resources efficiently.\n",
    "# The multiprocessing pool is useful when you have a time-consuming task that can be broken down into smaller independent tasks.\n",
    "# It distributes different tasks across multiple processes, so overall execution time will be less.\n",
    "# It allows you to take advantage of multiple processors and achieve better performance compared to running the tasks sequentially."
   ]
  },
  {
   "cell_type": "markdown",
   "id": "aabc6f6e-9d67-4db8-adc1-b8bcaff055a1",
   "metadata": {},
   "source": [
    "## Q5. How can we create a pool of worker processes in python using the multiprocessing module?"
   ]
  },
  {
   "cell_type": "code",
   "execution_count": 5,
   "id": "059f9b8b-9f34-4fda-953c-bd5fe2745245",
   "metadata": {},
   "outputs": [
    {
     "name": "stdout",
     "output_type": "stream",
     "text": [
      "[1, 27, 125, 343, 729]\n"
     ]
    }
   ],
   "source": [
    "import multiprocessing\n",
    "\n",
    "def worker_function(n):\n",
    "        return n**3\n",
    "\n",
    "if __name__ == '__main__':\n",
    "    with multiprocessing.Pool(processes=4) as pool:\n",
    "        out = pool.map(worker_function,[1,3,5,7,9])\n",
    "        print(out)"
   ]
  },
  {
   "cell_type": "markdown",
   "id": "4abfa6ff-822e-4beb-8d2f-3e834a79c7cc",
   "metadata": {},
   "source": [
    "## Q6. Write a python program to create 4 processes, each process should print a different number using the multiprocessing module in python."
   ]
  },
  {
   "cell_type": "code",
   "execution_count": 3,
   "id": "0ddc891c-18a2-4557-b07c-76b4016dbd97",
   "metadata": {},
   "outputs": [
    {
     "name": "stdout",
     "output_type": "stream",
     "text": [
      "Process: 0\n",
      "Process: 1\n",
      "Process: 2\n",
      "Process: 3\n"
     ]
    }
   ],
   "source": [
    "import multiprocessing\n",
    "\n",
    "def print_number(num):\n",
    "    print(\"Process:\",num)\n",
    "    \n",
    "if __name__ == \"__main__\":\n",
    "    processes = []\n",
    "    \n",
    "    for i in range(4):\n",
    "        m = multiprocessing.Process(target=print_number, args=(i,))\n",
    "        processes.append(m)\n",
    "        m.start()\n",
    "        m.join()"
   ]
  }
 ],
 "metadata": {
  "kernelspec": {
   "display_name": "Python 3 (ipykernel)",
   "language": "python",
   "name": "python3"
  },
  "language_info": {
   "codemirror_mode": {
    "name": "ipython",
    "version": 3
   },
   "file_extension": ".py",
   "mimetype": "text/x-python",
   "name": "python",
   "nbconvert_exporter": "python",
   "pygments_lexer": "ipython3",
   "version": "3.10.8"
  }
 },
 "nbformat": 4,
 "nbformat_minor": 5
}
